{
  "nbformat": 4,
  "nbformat_minor": 0,
  "metadata": {
    "colab": {
      "name": "Quiz_7.ipynb",
      "provenance": [],
      "collapsed_sections": []
    },
    "kernelspec": {
      "name": "python3",
      "display_name": "Python 3"
    }
  },
  "cells": [
    {
      "cell_type": "code",
      "metadata": {
        "id": "zDcbv_TphkC9",
        "colab_type": "code",
        "colab": {
          "base_uri": "https://localhost:8080/",
          "height": 34
        },
        "outputId": "d054a0bf-52c9-431b-f202-fc60cb98b08f"
      },
      "source": [
        "from datetime import datetime\n",
        "print(datetime.now())"
      ],
      "execution_count": 1,
      "outputs": [
        {
          "output_type": "stream",
          "text": [
            "2020-09-06 13:45:33.929978\n"
          ],
          "name": "stdout"
        }
      ]
    },
    {
      "cell_type": "code",
      "metadata": {
        "id": "95zswJDzhs57",
        "colab_type": "code",
        "colab": {}
      },
      "source": [
        "months = ['Jan', 'Feb', 'Mar', 'Apr', 'May', 'Jun', 'Jul', 'Aug', 'Sep', 'Oct', 'Nov', 'Dec']"
      ],
      "execution_count": 2,
      "outputs": []
    },
    {
      "cell_type": "code",
      "metadata": {
        "id": "ri1gpONOhyuq",
        "colab_type": "code",
        "colab": {}
      },
      "source": [
        "\n",
        "days = {'1': 'st', '2': 'nd', '3':'rd', '4':'th', '5':'th' , '6':'th', '7':'th', '8':'th', '9':'th','0':'th'}"
      ],
      "execution_count": 3,
      "outputs": []
    },
    {
      "cell_type": "code",
      "metadata": {
        "id": "XuaQYl2hiTdZ",
        "colab_type": "code",
        "colab": {}
      },
      "source": [
        "get_dob = lambda day,month,year: f'{day}{days[str(day)[-1]]}, {month}, {str(year)}' if day not in (11,12,13) else f'{day}th, {month}, {year}'"
      ],
      "execution_count": 4,
      "outputs": []
    },
    {
      "cell_type": "code",
      "metadata": {
        "id": "GLC0RwqFjMFZ",
        "colab_type": "code",
        "colab": {}
      },
      "source": [
        "import random"
      ],
      "execution_count": 5,
      "outputs": []
    },
    {
      "cell_type": "code",
      "metadata": {
        "id": "GlQ7um5zjWN6",
        "colab_type": "code",
        "colab": {
          "base_uri": "https://localhost:8080/",
          "height": 442
        },
        "outputId": "170b6160-1f21-4c4f-a477-58dc0e807e7f"
      },
      "source": [
        "[get_dob(random.randint(1,31), random.choice(months), random.randint(1901,2021)) for _ in range(25)]"
      ],
      "execution_count": 7,
      "outputs": [
        {
          "output_type": "execute_result",
          "data": {
            "text/plain": [
              "['14th, Jan, 1929',\n",
              " '5th, Oct, 2003',\n",
              " '19th, Jan, 1970',\n",
              " '1st, Apr, 1935',\n",
              " '16th, Jun, 1940',\n",
              " '30th, Jan, 1991',\n",
              " '11th, Jun, 1983',\n",
              " '4th, Apr, 2000',\n",
              " '30th, Jan, 1935',\n",
              " '2nd, Sep, 1992',\n",
              " '15th, Mar, 1922',\n",
              " '21st, Nov, 1997',\n",
              " '5th, Mar, 1954',\n",
              " '15th, Apr, 1976',\n",
              " '23rd, Oct, 1906',\n",
              " '14th, Nov, 1964',\n",
              " '11th, May, 1980',\n",
              " '21st, Dec, 1915',\n",
              " '1st, Feb, 1963',\n",
              " '3rd, Oct, 1970',\n",
              " '28th, Jan, 1969',\n",
              " '31st, Feb, 1924',\n",
              " '7th, Nov, 1903',\n",
              " '14th, Apr, 2008',\n",
              " '12th, Oct, 1971']"
            ]
          },
          "metadata": {
            "tags": []
          },
          "execution_count": 7
        }
      ]
    },
    {
      "cell_type": "code",
      "metadata": {
        "id": "kTVktwPJj2ql",
        "colab_type": "code",
        "colab": {
          "base_uri": "https://localhost:8080/",
          "height": 34
        },
        "outputId": "647ff988-e907-4cdc-eefb-34a749e806c8"
      },
      "source": [
        "from datetime import datetime\n",
        "print(datetime.now())"
      ],
      "execution_count": 8,
      "outputs": [
        {
          "output_type": "stream",
          "text": [
            "2020-09-06 13:54:02.587717\n"
          ],
          "name": "stdout"
        }
      ]
    }
  ]
}